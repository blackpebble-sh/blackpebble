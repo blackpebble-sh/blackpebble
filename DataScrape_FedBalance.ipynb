{
 "cells": [
  {
   "cell_type": "markdown",
   "id": "c6482b54",
   "metadata": {},
   "source": [
    "# Fed Balance Sheet\n",
    "* https://www.federalreserve.gov/monetarypolicy/bst_recenttrends.htm\n",
    "* Charts are generally updated at noon ET the day following the publication of the H.4.1, which is typically published at 4:30 ET on Thursdays."
   ]
  },
  {
   "cell_type": "code",
   "execution_count": 1,
   "id": "8e1a5760",
   "metadata": {},
   "outputs": [
    {
     "data": {
      "text/plain": [
       "818"
      ]
     },
     "execution_count": 1,
     "metadata": {},
     "output_type": "execute_result"
    }
   ],
   "source": [
    "import requests\n",
    "import xml.etree.ElementTree as ET\n",
    "import pandas as pd\n",
    "from sqlalchemy import create_engine\n",
    "import os\n",
    "\n",
    "# Make an HTTP request to retrieve the XML data\n",
    "response = requests.get('https://www.federalreserve.gov/data.xml')\n",
    "\n",
    "# Parse the XML data\n",
    "root = ET.fromstring(response.text)\n",
    "\n",
    "# Find the chart title=\"Total Assets of the Federal Reserve\" since there are multiple charts in that xml\n",
    "total_asset = root.find('./chart[@title=\"Total Assets of the Federal Reserve\"]')\n",
    "\n",
    "# Extract the date and value from the specific chart\n",
    "data=[]\n",
    "for observation in total_asset.findall('./series/observation'):\n",
    "    dt = observation.get('index')\n",
    "    balance = observation.get('value')\n",
    "    data.append({'dt': dt, 'balance':balance})\n",
    "    \n",
    "# Store the data in a dataframe\n",
    "df = pd.DataFrame(data)\n",
    "df['dt'] = pd.to_datetime(df['dt'])\n",
    "df['dt'] = df['dt'].dt.strftime('%Y%m%d')\n",
    "\n",
    "# Connect to the database\n",
    "sql_username = os.environ.get('SQL_USERNAME')\n",
    "sql_password = os.environ.get('SQL_PASSWORD')\n",
    "sql_host = os.environ.get('SQL_HOST')\n",
    "sql_database = os.environ.get('SQL_DATABASE')\n",
    "engine = create_engine(f'mysql://{sql_username}:{sql_password}@{sql_host}/{sql_database}')\n",
    "\n",
    "# define SQL command to truncate table\n",
    "table_name = 'fed_balance'\n",
    "truncate_cmd = f'TRUNCATE TABLE {table_name};'\n",
    "\n",
    "# execute SQL command to truncate table\n",
    "with engine.connect() as conn:\n",
    "    conn.execute(truncate_cmd)\n",
    "\n",
    "# Upload the data to the \"fed_asset\" table\n",
    "df.to_sql('fed_balance', con=engine, if_exists='append', index=False)\n"
   ]
  }
 ],
 "metadata": {
  "kernelspec": {
   "display_name": "Python 3 (ipykernel)",
   "language": "python",
   "name": "python3"
  },
  "language_info": {
   "codemirror_mode": {
    "name": "ipython",
    "version": 3
   },
   "file_extension": ".py",
   "mimetype": "text/x-python",
   "name": "python",
   "nbconvert_exporter": "python",
   "pygments_lexer": "ipython3",
   "version": "3.9.12"
  }
 },
 "nbformat": 4,
 "nbformat_minor": 5
}
