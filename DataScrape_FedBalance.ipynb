{
 "cells": [
  {
   "cell_type": "markdown",
   "id": "c6482b54",
   "metadata": {},
   "source": [
    "# Fed Balance Sheet\n",
    "* https://www.federalreserve.gov/monetarypolicy/bst_recenttrends.htm\n",
    "* Update every thursday\n",
    "* Interactive Chart\n",
    "* Parse xml data form\n",
    "* Replace table \"fed_balance\""
   ]
  },
  {
   "cell_type": "code",
   "execution_count": 1,
   "id": "8e1a5760",
   "metadata": {},
   "outputs": [
    {
     "name": "stdout",
     "output_type": "stream",
     "text": [
      "environ({'ACSETUPSVCPORT': '23210', 'ACSVCPORT': '17532', 'ALLUSERSPROFILE': 'C:\\\\ProgramData', 'APPDATA': 'C:\\\\Users\\\\wshaw\\\\AppData\\\\Roaming', 'COMMONPROGRAMFILES': 'C:\\\\Program Files\\\\Common Files', 'COMMONPROGRAMFILES(X86)': 'C:\\\\Program Files (x86)\\\\Common Files', 'COMMONPROGRAMW6432': 'C:\\\\Program Files\\\\Common Files', 'COMPUTERNAME': 'LAPTOP-EF0A6SNV', 'COMSPEC': 'C:\\\\WINDOWS\\\\system32\\\\cmd.exe', 'CONDA_BAT': 'C:\\\\Users\\\\wshaw\\\\anaconda3\\\\condabin\\\\conda.bat', 'CONDA_DEFAULT_ENV': 'base', 'CONDA_EXE': 'C:\\\\Users\\\\wshaw\\\\anaconda3\\\\Scripts\\\\conda.exe', 'CONDA_PREFIX': 'C:\\\\Users\\\\wshaw\\\\anaconda3', 'CONDA_PROMPT_MODIFIER': '(base) ', 'CONDA_PYTHON_EXE': 'C:\\\\Users\\\\wshaw\\\\anaconda3\\\\python.exe', 'CONDA_SHLVL': '1', 'DRIVERDATA': 'C:\\\\Windows\\\\System32\\\\Drivers\\\\DriverData', 'EFC_10672': '1', 'HOMEDRIVE': 'C:', 'HOMEPATH': '\\\\Users\\\\wshaw', 'LOCALAPPDATA': 'C:\\\\Users\\\\wshaw\\\\AppData\\\\Local', 'LOGONSERVER': '\\\\\\\\LAPTOP-EF0A6SNV', 'NUMBER_OF_PROCESSORS': '16', 'ONEDRIVE': 'C:\\\\Users\\\\wshaw\\\\OneDrive', 'ONEDRIVECONSUMER': 'C:\\\\Users\\\\wshaw\\\\OneDrive', 'OS': 'Windows_NT', 'PATH': 'C:\\\\Users\\\\wshaw\\\\anaconda3;C:\\\\Users\\\\wshaw\\\\anaconda3\\\\Library\\\\mingw-w64\\\\bin;C:\\\\Users\\\\wshaw\\\\anaconda3\\\\Library\\\\usr\\\\bin;C:\\\\Users\\\\wshaw\\\\anaconda3\\\\Library\\\\bin;C:\\\\Users\\\\wshaw\\\\anaconda3\\\\Scripts;C:\\\\Users\\\\wshaw\\\\anaconda3\\\\bin;C:\\\\Users\\\\wshaw\\\\anaconda3\\\\condabin;C:\\\\Program Files (x86)\\\\Common Files\\\\Oracle\\\\Java\\\\javapath;C:\\\\Windows\\\\system32;C:\\\\Windows;C:\\\\Windows\\\\System32\\\\Wbem;C:\\\\Windows\\\\System32\\\\WindowsPowerShell\\\\v1.0;C:\\\\Windows\\\\System32\\\\OpenSSH;C:\\\\Program Files (x86)\\\\NVIDIA Corporation\\\\PhysX\\\\Common;C:\\\\Program Files\\\\NVIDIA Corporation\\\\NVIDIA NvDLISR;C:\\\\WINDOWS\\\\system32;C:\\\\WINDOWS;C:\\\\WINDOWS\\\\System32\\\\Wbem;C:\\\\WINDOWS\\\\System32\\\\WindowsPowerShell\\\\v1.0;C:\\\\WINDOWS\\\\System32\\\\OpenSSH;C:\\\\Users\\\\wshaw\\\\anaconda3\\\\Scripts;C:\\\\Users\\\\wshaw\\\\anaconda3\\\\condabin;.', 'PATHEXT': '.COM;.EXE;.BAT;.CMD;.VBS;.VBE;.JS;.JSE;.WSF;.WSH;.MSC', 'PROCESSOR_ARCHITECTURE': 'AMD64', 'PROCESSOR_IDENTIFIER': 'AMD64 Family 25 Model 80 Stepping 0, AuthenticAMD', 'PROCESSOR_LEVEL': '25', 'PROCESSOR_REVISION': '5000', 'PROGRAMDATA': 'C:\\\\ProgramData', 'PROGRAMFILES': 'C:\\\\Program Files', 'PROGRAMFILES(X86)': 'C:\\\\Program Files (x86)', 'PROGRAMW6432': 'C:\\\\Program Files', 'PROMPT': '(base) $P$G', 'PSMODULEPATH': 'C:\\\\Program Files\\\\WindowsPowerShell\\\\Modules;C:\\\\WINDOWS\\\\system32\\\\WindowsPowerShell\\\\v1.0\\\\Modules', 'PUBLIC': 'C:\\\\Users\\\\Public', 'RLSSVCPORT': '22112', 'SESSIONNAME': 'Console', 'SQL_DATABASE': 'shdb', 'SQL_HOST': 'shdb.cdsqi7mra7bl.us-east-2.rds.amazonaws.com', 'SQL_PASSWORD': 'shanhuang', 'SQL_USERNAME': 'shanhuang', 'SYSTEMDRIVE': 'C:', 'SYSTEMROOT': 'C:\\\\WINDOWS', 'TEMP': 'C:\\\\Users\\\\wshaw\\\\AppData\\\\Local\\\\Temp', 'TMP': 'C:\\\\Users\\\\wshaw\\\\AppData\\\\Local\\\\Temp', 'USERDOMAIN': 'LAPTOP-EF0A6SNV', 'USERDOMAIN_ROAMINGPROFILE': 'LAPTOP-EF0A6SNV', 'USERNAME': 'wshaw', 'USERPROFILE': 'C:\\\\Users\\\\wshaw', 'WINDIR': 'C:\\\\WINDOWS', 'PYDEVD_USE_FRAME_EVAL': 'NO', 'JPY_INTERRUPT_EVENT': '2496', 'IPY_INTERRUPT_EVENT': '2496', 'JPY_PARENT_PID': '2104', 'TERM': 'xterm-color', 'CLICOLOR': '1', 'PAGER': 'cat', 'GIT_PAGER': 'cat', 'MPLBACKEND': 'module://matplotlib_inline.backend_inline'})\n"
     ]
    },
    {
     "data": {
      "text/plain": [
       "818"
      ]
     },
     "execution_count": 1,
     "metadata": {},
     "output_type": "execute_result"
    }
   ],
   "source": [
    "import requests\n",
    "import xml.etree.ElementTree as ET\n",
    "import pandas as pd\n",
    "from sqlalchemy import create_engine\n",
    "import os\n",
    "\n",
    "# Make an HTTP request to retrieve the XML data\n",
    "response = requests.get('https://www.federalreserve.gov/data.xml')\n",
    "\n",
    "# Parse the XML data\n",
    "root = ET.fromstring(response.text)\n",
    "\n",
    "# Find the chart title=\"Total Assets of the Federal Reserve\" since there are multiple charts in that xml\n",
    "total_asset = root.find('./chart[@title=\"Total Assets of the Federal Reserve\"]')\n",
    "\n",
    "# Extract the date and value from the specific chart\n",
    "data=[]\n",
    "for observation in total_asset.findall('./series/observation'):\n",
    "    dt = observation.get('index')\n",
    "    balance = observation.get('value')\n",
    "    data.append({'dt': dt, 'balance':balance})\n",
    "    \n",
    "# Store the data in a dataframe\n",
    "df = pd.DataFrame(data)\n",
    "df['dt'] = pd.to_datetime(df['dt'])\n",
    "df['dt'] = df['dt'].dt.strftime('%Y%m%d')\n",
    "\n",
    "# Connect to the database\n",
    "sql_username = os.environ.get('SQL_USERNAME')\n",
    "sql_password = os.environ.get('SQL_PASSWORD')\n",
    "sql_host = os.environ.get('SQL_HOST')\n",
    "sql_database = os.environ.get('SQL_DATABASE')\n",
    "engine = create_engine(f'mysql://{sql_username}:{sql_password}@{sql_host}/{sql_database}')\n",
    "\n",
    "# define SQL command to truncate table\n",
    "table_name = 'fed_balance'\n",
    "truncate_cmd = f'TRUNCATE TABLE {table_name};'\n",
    "\n",
    "# execute SQL command to truncate table\n",
    "with engine.connect() as conn:\n",
    "    conn.execute(truncate_cmd)\n",
    "\n",
    "# Upload the data to the \"fed_asset\" table\n",
    "df.to_sql('fed_balance', con=engine, if_exists='append', index=False)\n"
   ]
  }
 ],
 "metadata": {
  "kernelspec": {
   "display_name": "Python 3 (ipykernel)",
   "language": "python",
   "name": "python3"
  },
  "language_info": {
   "codemirror_mode": {
    "name": "ipython",
    "version": 3
   },
   "file_extension": ".py",
   "mimetype": "text/x-python",
   "name": "python",
   "nbconvert_exporter": "python",
   "pygments_lexer": "ipython3",
   "version": "3.9.12"
  }
 },
 "nbformat": 4,
 "nbformat_minor": 5
}
