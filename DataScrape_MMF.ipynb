{
 "cells": [
  {
   "cell_type": "markdown",
   "id": "5a8709f4",
   "metadata": {},
   "source": [
    "# MMF\n",
    "* https://www.financialresearch.gov/money-market-funds/us-mmfs-investments-by-fund-category/\n",
    "* Sources: SEC Form N-MFP2\n",
    "* Six categories\n",
    " * Prime\n",
    " * Prime Institutional\n",
    " * Prime Retail\n",
    " * Government (No Fees & Gates)\n",
    " * Government\n",
    " * Government (Fees & Gates)\n",
    " * Tax Exempt\n",
    " * Tax Exempt Retail\n",
    " * Tax Exempt Institutional\n"
   ]
  },
  {
   "cell_type": "code",
   "execution_count": 1,
   "id": "2fc93133",
   "metadata": {},
   "outputs": [
    {
     "data": {
      "text/plain": [
       "146"
      ]
     },
     "execution_count": 1,
     "metadata": {},
     "output_type": "execute_result"
    }
   ],
   "source": [
    "import os\n",
    "import json\n",
    "import requests\n",
    "import pandas as pd\n",
    "from sqlalchemy import create_engine\n",
    "\n",
    "response = requests.get('https://www.financialresearch.gov/money-market-funds/data/credit_risks_country/data.json')\n",
    "data = json.loads(response.content)['datatable']['values']\n",
    "df = pd.DataFrame(data, columns=['dt','tax_exempt_institutional', 'government_fees_gates', 'tax_exempt_retail', 'tax_exempt', 'prime_retail', 'prime_institutional', 'government', 'prime', 'government_no_fees_gates'])\n",
    "df['total'] = df.iloc[:,1:].sum(axis=1)\n",
    "df['dt'] = pd.to_datetime(df['dt'])\n",
    "df['dt'] = df['dt'].dt.strftime('%Y%m%d')\n",
    "\n",
    "sql_username = os.environ.get('SQL_USERNAME')\n",
    "sql_password = os.environ.get('SQL_PASSWORD')\n",
    "sql_host = os.environ.get('SQL_HOST')\n",
    "sql_database = os.environ.get('SQL_DATABASE')\n",
    "engine = create_engine(f'mysql://{sql_username}:{sql_password}@{sql_host}/{sql_database}')\n",
    "\n",
    "tablename = 'mmf'\n",
    "truncate_cmd = f'truncate table {tablename};'\n",
    "\n",
    "with engine.connect() as conn:\n",
    "    conn.execute(truncate_cmd)\n",
    "    \n",
    "df.to_sql('mmf', con=engine, if_exists='append', index=False)"
   ]
  }
 ],
 "metadata": {
  "kernelspec": {
   "display_name": "Python 3 (ipykernel)",
   "language": "python",
   "name": "python3"
  },
  "language_info": {
   "codemirror_mode": {
    "name": "ipython",
    "version": 3
   },
   "file_extension": ".py",
   "mimetype": "text/x-python",
   "name": "python",
   "nbconvert_exporter": "python",
   "pygments_lexer": "ipython3",
   "version": "3.9.12"
  }
 },
 "nbformat": 4,
 "nbformat_minor": 5
}
