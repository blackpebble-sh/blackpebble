{
 "cells": [
  {
   "cell_type": "markdown",
   "id": "fb04793c",
   "metadata": {},
   "source": [
    "# Download daily price from yfinance\n",
    "\n",
    "* Truncate and update px table for all symbols in S table. yf_symbol required"
   ]
  },
  {
   "cell_type": "code",
   "execution_count": 65,
   "id": "e623f439",
   "metadata": {},
   "outputs": [
    {
     "name": "stdout",
     "output_type": "stream",
     "text": [
      "[*********************100%***********************]  39 of 39 completed\n",
      "Data updated successfully..\n"
     ]
    }
   ],
   "source": [
    "import os\n",
    "import yfinance as yf\n",
    "import pandas as pd\n",
    "from sqlalchemy import create_engine\n",
    "\n",
    "sql_username = os.environ.get('SQL_USERNAME')\n",
    "sql_password = os.environ.get('SQL_PASSWORD')\n",
    "sql_host = os.environ.get('SQL_HOST')\n",
    "sql_database = os.environ.get('SQL_DATABASE')\n",
    "engine = create_engine(f'mysql://{sql_username}:{sql_password}@{sql_host}/{sql_database}')\n",
    "\n",
    "sql_query = 'select yf_symbol from s;'\n",
    "tickers = pd.read_sql(sql_query, engine).squeeze().tolist()\n",
    "data = yf.download(tickers, start=None, end=None, interval='1d')\n",
    "df = pd.DataFrame(data)\n",
    "\n",
    "# reshape df. Current columns are (open, ticker), (close, ticker), (high, ticker), etc\n",
    "melted_df = df.melt(ignore_index=False).reset_index()\n",
    "reshaped_df = melted_df.pivot(index=['Date','variable_1'], columns='variable_0', values='value')\n",
    "reshaped_df.reset_index(inplace=True)\n",
    "reshaped_df.rename(columns={'Date':'dt','variable_1':'symbol','Adj Close':'adj_close','Close':'close','High':'high','Low':'low','Open':'open','Volume':'vol'}, inplace=True)\n",
    "\n",
    "# create temp table to hold price table data\n",
    "with engine.connect() as conn:\n",
    "    conn.execute('create temporary table price_temp like price')\n",
    "    conn.execute('insert into price_temp select * from price')\n",
    "\n",
    "# update the px table\n",
    "try:\n",
    "    with engine.connect() as conn:\n",
    "        conn.execute('truncate table price')\n",
    "        reshaped_df.to_sql(name='price', con=conn, if_exists='append', index=False)\n",
    "        \n",
    "    # if everything is ok, drop temp table\n",
    "    print('Data updated successfully..')\n",
    "    with engine.connect() as conn:\n",
    "        conn.execute('drop temporary table price_temp')\n",
    "\n",
    "except Exception as e:\n",
    "    # If anything goes wrong, restore the px table\n",
    "    print('Error uploading data:', e)\n",
    "    with engine.connect() as conn:\n",
    "        conn.execute('truncate table price')\n",
    "        conn.execute('insert into price select * from price_temp')\n",
    "        conn.execute('drop temporary table price_temp')\n",
    "    print('Data retored to the previous status..')\n",
    "    \n"
   ]
  }
 ],
 "metadata": {
  "kernelspec": {
   "display_name": "Python 3 (ipykernel)",
   "language": "python",
   "name": "python3"
  },
  "language_info": {
   "codemirror_mode": {
    "name": "ipython",
    "version": 3
   },
   "file_extension": ".py",
   "mimetype": "text/x-python",
   "name": "python",
   "nbconvert_exporter": "python",
   "pygments_lexer": "ipython3",
   "version": "3.9.12"
  }
 },
 "nbformat": 4,
 "nbformat_minor": 5
}
